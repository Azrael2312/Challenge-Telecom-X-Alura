{
  "nbformat": 4,
  "nbformat_minor": 0,
  "metadata": {
    "colab": {
      "provenance": []
    },
    "kernelspec": {
      "name": "python3",
      "display_name": "Python 3"
    },
    "language_info": {
      "name": "python"
    }
  },
  "cells": [
    {
      "cell_type": "code",
      "execution_count": null,
      "metadata": {
        "id": "b_WEpQPPnZEa"
      },
      "outputs": [],
      "source": [
        "# Data Extraction\n",
        "import requests, pandas as pd\n",
        "\n",
        "RAW_URL = \"https://raw.githubusercontent.com/ingridcristh/challenge2-data-science-LATAM/refs/heads/main/TelecomX_Data.json\"\n",
        "\n",
        "resp = requests.get(RAW_URL, timeout=30)\n",
        "resp.raise_for_status()\n",
        "\n",
        "data = resp.json()\n",
        "df = pd.json_normalize(data)\n",
        "print(df.head(), df.shape)"
      ]
    },
    {
      "cell_type": "code",
      "source": [
        "# Knowinwg Data Sets\n",
        "print(df.shape)\n",
        "print(df.dtypes)\n",
        "print(df.head())\n",
        "df.info()"
      ],
      "metadata": {
        "id": "8gcjs7FeoDdB"
      },
      "execution_count": null,
      "outputs": []
    },
    {
      "cell_type": "code",
      "source": [
        "unique_values_dict = {}\n",
        "for column in df.columns:\n",
        "  unique_values_dict[column] = pd.unique(df[column])\n",
        "\n",
        "for column, values in unique_values_dict.items():\n",
        "    print(f\"Unique values in '{column}': {values}\")"
      ],
      "metadata": {
        "id": "8l7sHotBrCTb"
      },
      "execution_count": null,
      "outputs": []
    },
    {
      "cell_type": "code",
      "source": [
        "print(df.isna().sum())\n",
        "(df.isna().mean() * 100).round(2)"
      ],
      "metadata": {
        "id": "6LxMN4PVs4F3"
      },
      "execution_count": null,
      "outputs": []
    },
    {
      "cell_type": "code",
      "source": [
        "df[\"account.Charges.Total\"] = pd.to_numeric(df[\"account.Charges.Total\"], errors=\"coerce\")\n",
        "print(df[\"account.Charges.Total\"].isna().sum())\n",
        "print(df[\"account.Charges.Total\"].describe())"
      ],
      "metadata": {
        "id": "Bk-3gobRvWGq"
      },
      "execution_count": null,
      "outputs": []
    },
    {
      "cell_type": "code",
      "source": [
        "missing_rows = df[df[\"account.Charges.Total\"].isna()]\n",
        "print(missing_rows)"
      ],
      "metadata": {
        "id": "B4NKdOEt0aKY"
      },
      "execution_count": null,
      "outputs": []
    },
    {
      "cell_type": "code",
      "source": [
        "df.loc[df[\"customer.tenure\"] == 0, \"account.Charges.Total\"] = 0"
      ],
      "metadata": {
        "id": "V9_jPCK916vz"
      },
      "execution_count": null,
      "outputs": []
    },
    {
      "cell_type": "code",
      "source": [
        "df.duplicated().sum()\n",
        "df[\"customer.gender\"].value_counts()\n",
        "df = df[df[\"Churn\"].str.strip() != \"\"]\n"
      ],
      "metadata": {
        "id": "_Y701qtK9K41"
      },
      "execution_count": 18,
      "outputs": []
    },
    {
      "cell_type": "code",
      "source": [
        "df[\"account.Daily.Cuentas_Diarias\"] = df[\"account.Charges.Monthly\"] / 30\n",
        "print(df[[\"account.Charges.Monthly\", \"account.Daily.Cuentas_Diarias\"]])"
      ],
      "metadata": {
        "id": "_YhoDJzlJHSo"
      },
      "execution_count": null,
      "outputs": []
    },
    {
      "cell_type": "code",
      "source": [
        "df.describe(include=\"all\")"
      ],
      "metadata": {
        "id": "S_WpenUcM0kd"
      },
      "execution_count": null,
      "outputs": []
    },
    {
      "cell_type": "code",
      "source": [
        "num_cols = df.select_dtypes(include=[\"int64\", \"float64\"]).columns\n",
        "print(df[num_cols].describe().T)"
      ],
      "metadata": {
        "id": "XyfUyTPoO56C"
      },
      "execution_count": null,
      "outputs": []
    },
    {
      "cell_type": "code",
      "source": [
        "cat_cols = df.select_dtypes(include=[\"object\"]).columns\n",
        "for col in cat_cols:\n",
        "    print(f\"\\n{col} value counts:\")\n",
        "    print(df[col].value_counts(normalize=True).round(2) * 100)"
      ],
      "metadata": {
        "id": "BnN4ZOr8PJrj"
      },
      "execution_count": null,
      "outputs": []
    },
    {
      "cell_type": "code",
      "source": [
        "for col in [\"customer.gender\", \"customer.Partner\", \"customer.Dependents\",\n",
        "            \"phone.PhoneService\", \"internet.InternetService\", \"account.Contract\"]:\n",
        "    print(f\"\\nChurn rate by {col}:\")\n",
        "    print(df.groupby(col)[\"Churn\"].value_counts(normalize=True).unstack().round(2)*100)\n"
      ],
      "metadata": {
        "id": "bN7dB9etPmUx"
      },
      "execution_count": null,
      "outputs": []
    },
    {
      "cell_type": "code",
      "source": [
        "# Distribucion de Evasion\n",
        "import seaborn as sns\n",
        "import matplotlib.pyplot as plt\n",
        "\n",
        "plt.figure(figsize=(6,4))\n",
        "sns.countplot(x=\"Churn\", data=df, palette=\"pastel\")\n",
        "plt.title(\"Customer Churn Distribution (Count)\")\n",
        "plt.xlabel(\"Churn\")\n",
        "plt.ylabel(\"Number of Customers\")\n",
        "plt.show()\n",
        "\n",
        "churn_counts = df[\"Churn\"].value_counts()\n",
        "labels = churn_counts.index\n",
        "sizes = churn_counts.values\n",
        "colors = [\"#66b3ff\",\"#ff9999\"]\n",
        "\n",
        "plt.figure(figsize=(5,5))\n",
        "plt.pie(sizes, labels=labels, autopct=\"%.1f%%\", colors=colors, startangle=90)\n",
        "plt.title(\"Customer Churn Distribution (%)\")\n",
        "plt.show()\n",
        "\n",
        "churn_rate = df[\"Churn\"].value_counts(normalize=True) * 100\n",
        "\n",
        "plt.figure(figsize=(6,4))\n",
        "sns.barplot(x=churn_rate.index, y=churn_rate.values, palette=\"pastel\")\n",
        "plt.title(\"Customer Churn Distribution (%)\")\n",
        "plt.ylabel(\"Percentage of Customers\")\n",
        "plt.xlabel(\"Churn\")\n",
        "for i, val in enumerate(churn_rate.values):\n",
        "    plt.text(i, val+1, f\"{val:.1f}%\", ha=\"center\", fontsize=12)\n",
        "plt.show()\n",
        "\n"
      ],
      "metadata": {
        "id": "8ZmmxiheRbBG"
      },
      "execution_count": null,
      "outputs": []
    },
    {
      "cell_type": "code",
      "source": [
        "# Recuento de evasión por variables categóricas\n",
        "## Churn Por Genero\n",
        "plt.figure(figsize=(6,4))\n",
        "sns.countplot(x=\"customer.gender\", hue=\"Churn\", data=df, palette=\"pastel\")\n",
        "plt.title(\"Churn Distribution by Gender\")\n",
        "plt.show()\n",
        "\n",
        "## Churn por tipo de contrato\n",
        "plt.figure(figsize=(7,4))\n",
        "sns.countplot(x=\"account.Contract\", hue=\"Churn\", data=df, palette=\"pastel\")\n",
        "plt.title(\"Churn Distribution by Contract Type\")\n",
        "plt.show()\n",
        "\n",
        "## Churn por metodo de pago\n",
        "plt.figure(figsize=(8,4))\n",
        "sns.countplot(x=\"account.PaymentMethod\", hue=\"Churn\", data=df, palette=\"pastel\")\n",
        "plt.xticks(rotation=30)\n",
        "plt.title(\"Churn Distribution by Payment Method\")\n",
        "plt.show()\n",
        "\n",
        "## Churn por servicio de internet\n",
        "plt.figure(figsize=(7,4))\n",
        "sns.countplot(x=\"internet.InternetService\", hue=\"Churn\", data=df, palette=\"pastel\")\n",
        "plt.title(\"Churn Distribution by Internet Service\")\n",
        "plt.show()\n",
        "\n",
        "\n"
      ],
      "metadata": {
        "id": "OBtWLPeBSt-s"
      },
      "execution_count": null,
      "outputs": []
    },
    {
      "cell_type": "code",
      "source": [
        "# Conteo de evasión por variables numéricas\n",
        "\n",
        "## Tenure vs Churn\n",
        "plt.figure(figsize=(7,4))\n",
        "sns.histplot(data=df, x=\"customer.tenure\", hue=\"Churn\", bins=30, multiple=\"stack\", palette=\"pastel\")\n",
        "plt.title(\"Tenure Distribution by Churn\")\n",
        "plt.xlabel(\"Months with Company\")\n",
        "plt.show()\n",
        "\n",
        "## Monthly Charges vs Churn\n",
        "plt.figure(figsize=(7,4))\n",
        "sns.boxplot(x=\"Churn\", y=\"account.Charges.Monthly\", data=df, palette=\"pastel\")\n",
        "plt.title(\"Monthly Charges Distribution by Churn\")\n",
        "plt.show()\n",
        "\n",
        "## Total Charges vs Churn\n",
        "plt.figure(figsize=(7,4))\n",
        "sns.boxplot(x=\"Churn\", y=\"account.Charges.Total\", data=df, palette=\"pastel\")\n",
        "plt.title(\"Total Charges Distribution by Churn\")\n",
        "plt.show()\n",
        "\n"
      ],
      "metadata": {
        "id": "-v6oL-YMUlWK"
      },
      "execution_count": null,
      "outputs": []
    },
    {
      "cell_type": "markdown",
      "source": [
        "### Informe de Análisis de Churn\n",
        "\n",
        "#### Introducción\n",
        "\n",
        "Este informe analiza la rotación de clientes (churn), que es la proporción de clientes que cancelan su servicio, y los factores asociados a ella. Los objetivos son:\n",
        "\n",
        "- Limpiar y preparar el conjunto de datos para un análisis fiable.\n",
        "    \n",
        "- Explorar la distribución de la rotación en general y a través de características categóricas clave (género, contrato, método de pago, servicios).\n",
        "    \n",
        "- Comparar las características numéricas (permanencia, cargos mensuales, cargos totales) entre clientes que rotaron y los que no.\n",
        "    \n",
        "- Resumir los hallazgos y proponer recomendaciones viables para reducir la rotación.\n",
        "    \n",
        "\n",
        "#### Limpieza y Procesamiento de Datos\n",
        "\n",
        "- Se eliminaron los espacios en blanco de las columnas de texto.\n",
        "    \n",
        "- Se convirtió `account.Charges.Total` a tipo numérico (los valores no válidos se convirtieron a `NaN`).\n",
        "    \n",
        "- Se estandarizaron las etiquetas de rotación (`Sí`/`No`); se eliminaron las filas con valores de rotación en blanco o faltantes.\n",
        "    \n",
        "- Se estableció `account.Charges.Total = 0` para los clientes con una permanencia de 0 (clientes nuevos).\n",
        "    \n",
        "- Se eliminaron las filas con valores faltantes restantes en `account.Charges.Total`.\n",
        "    \n",
        "- Se creó `account.Daily_Accounts` = `account.Charges.Monthly` / 30.\n",
        "    \n",
        "- Se eliminaron las filas duplicadas.\n",
        "    \n",
        "- **Resultado:** El conjunto de datos está limpio y consistente, con la información de rotación estandarizada.\n",
        "    \n",
        "\n",
        "#### Análisis Exploratorio de Datos\n",
        "\n",
        "**Distribución General de la Rotación**\n",
        "\n",
        "- Tasa de rotación general: ~26% (clientes que rotaron) vs ~74% (clientes que no rotaron).\n",
        "    \n",
        "- El conjunto de datos está desequilibrado, con más clientes que se quedan que los que se van.\n",
        "    \n",
        "\n",
        "**Rotación por Características Categóricas**\n",
        "\n",
        "- **Tipo de Contrato:**\n",
        "    \n",
        "    - Los clientes con contrato mensual rotan más (~40% de rotación).\n",
        "        \n",
        "    - Los contratos de 1 y 2 años tienen una rotación mucho menor (~10%).\n",
        "        \n",
        "- **Método de Pago:**\n",
        "    \n",
        "    - Los clientes que pagan con cheque electrónico tienen la rotación más alta.\n",
        "        \n",
        "    - Los métodos de pago automático (tarjeta de crédito, transferencia bancaria) muestran una rotación mucho menor.\n",
        "        \n",
        "- **Servicio de Internet:**\n",
        "    \n",
        "    - Los usuarios de fibra óptica muestran una rotación más alta que los clientes de DSL o los que no tienen servicio de internet.\n",
        "        \n",
        "- **Género, Pareja, Dependientes:**\n",
        "    \n",
        "    - Tienen un efecto insignificante o nulo en la rotación.\n",
        "        \n",
        "\n",
        "**Características Numéricas vs. Rotación**\n",
        "\n",
        "- **Permanencia (`Tenure`):**\n",
        "    \n",
        "    - Los clientes que rotaron suelen tener una permanencia baja (mediana de ~1 año).\n",
        "        \n",
        "    - Los clientes que no rotaron tienen una permanencia más larga (mediana de ~3-4 años).\n",
        "        \n",
        "- **Cargos Mensuales (`Monthly Charges`):**\n",
        "    \n",
        "    - Los clientes que rotaron pagan cargos mensuales más altos (mediana de ~$80).\n",
        "        \n",
        "    - Los clientes que no rotaron pagan cargos mensuales más bajos (mediana de ~$65).\n",
        "        \n",
        "- **Cargos Totales (`Total Charges`):**\n",
        "    \n",
        "    - Los clientes que rotaron acumulan un gasto total mucho menor, lo que es consistente con una permanencia más corta.\n",
        "        \n",
        "\n",
        "#### Conclusiones e Ideas Clave\n",
        "\n",
        "- **Tasa de rotación general:** Aproximadamente 1 de cada 4 clientes cancela el servicio.\n",
        "    \n",
        "- El **tipo de contrato** es el factor más influyente en la rotación: los contratos a corto plazo tienen un alto riesgo.\n",
        "    \n",
        "- Los **métodos de pago** son importantes: los usuarios de cheque electrónico son significativamente más propensos a irse.\n",
        "    \n",
        "- El **nivel de servicio** influye en la rotación: los clientes de fibra óptica rotan más (posiblemente relacionado con el precio o la calidad).\n",
        "    \n",
        "- La **permanencia** es fundamental: los clientes nuevos rotan mucho más; los clientes con una larga permanencia son leales.\n",
        "    \n",
        "- La **presión de los precios**: las facturas mensuales más altas están correlacionadas con una mayor rotación.\n",
        "    \n",
        "\n",
        "#### Recomendaciones\n",
        "\n",
        "- **Promover contratos más largos:** Ofrecer descuentos o beneficios a los clientes que pasen de planes mensuales a anuales.\n",
        "    \n",
        "- **Fomentar métodos de pago estables:** Incentivar la migración de cheques electrónicos a métodos de pago automático.\n",
        "    \n",
        "- **Programas de retención temprana:** Centrarse en los primeros 90 días con una buena incorporación, soporte proactivo y ofertas de fidelización.\n",
        "    \n",
        "- **Dirigirse a clientes con cargos altos:** Ofrecer la optimización del plan, paquetes o descuentos de fidelización para reducir la rotación impulsada por el precio.\n",
        "    \n",
        "- **Centrarse en la calidad del servicio:** Prestar atención a los clientes de fibra óptica (mayor rotación) con monitoreo de calidad, comunicación proactiva y soporte."
      ],
      "metadata": {
        "id": "6_32aXQmcKwG"
      }
    }
  ]
}